{
 "cells": [
  {
   "cell_type": "markdown",
   "metadata": {},
   "source": [
    "# Debugging SageMaker Training Jobs with Tornasole \n",
    "## Writing Custom Rules"
   ]
  },
  {
   "cell_type": "markdown",
   "metadata": {},
   "source": [
    "## Overview\n",
    "Tornasole is a new capability of Amazon SageMaker that allows debugging machine learning training. \n",
    "It lets you go beyond just looking at scalars like losses and accuracies during training and gives \n",
    "you full visibility into all tensors 'flowing through the graph' during training. Tornasole helps you to monitor your training in near real time using rules and would provide you alerts, once it has detected inconsistency in training flow. \n",
    "\n",
    "Using Tornasole is a two step process: Saving tensors and Analysis. Let's look at each one of them closely.\n",
    "\n",
    "### Saving tensors\n",
    "Tensors define the state of the training job at any particular instant in its lifecycle. Tornasole exposes a library which allows you to capture these tensors and save them for analysis. Tornasole is highly customizable to save the tensors you want at different frequencies. Refer [DeveloperGuide_TensorFlow](../../DeveloperGuide_TF.md) for details on how to save the tensors you want to save.\n",
    "\n",
    "### Analysis\n",
    "\n",
    "Analysis of the tensors emitted is captured by the Tornasole concept called ***Rules***. On a very broad level, \n",
    "a rule is a python code used to detect certain conditions during training. Some of the conditions that a data scientist training a deep learning model may care about are monitoring for gradients getting too large or too small, detecting overfitting, and so on.\n",
    "Tornasole will come pre-packaged with certain rules. Users can write their own rules using the Tornasole APIs.\n",
    "You can also analyze raw tensor data outside of the Rules construct in say, a Sagemaker notebook, using Tornasole's full set of APIs. \n",
    "Please refer [Developer Guide for Rules](../../../../rules/DeveloperGuide_Rules.md) for more details about analysis.\n",
    "\n",
    "This example guides you through installation of the required components for emitting tensors in a \n",
    "SageMaker training job and applying a rule over the tensors to monitor the live status of the job. \n"
   ]
  },
  {
   "cell_type": "markdown",
   "metadata": {},
   "source": [
    "## Setup\n",
    "\n",
    "As a first step, we'll do the installation of required tools which will allow emission of tensors (saving tensors) and application of rules to analyze them. This is only for the purposes of this private beta. Once we do this, we will be ready to use Tornasole."
   ]
  },
  {
   "cell_type": "code",
   "execution_count": 1,
   "metadata": {
    "scrolled": true
   },
   "outputs": [
    {
     "name": "stdout",
     "output_type": "stream",
     "text": [
      "Installing requirements...\n",
      "\u001b[33mYou are using pip version 10.0.1, however version 19.2.3 is available.\n",
      "You should consider upgrading via the 'pip install --upgrade pip' command.\u001b[0m\n",
      "Installation completed!\n"
     ]
    }
   ],
   "source": [
    "! aws s3 sync s3://tornasole-external-preview-use1/sdk/ ~/SageMaker/tornasole-preview-sdk/\n",
    "! chmod +x ~/SageMaker/tornasole-preview-sdk/installer.sh && ~/SageMaker/tornasole-preview-sdk/installer.sh"
   ]
  },
  {
   "cell_type": "markdown",
   "metadata": {},
   "source": [
    "\n",
    "## Using custom Tornasole rules with SageMaker \n",
    "\n",
    "This notebook assumes that you have gone through at least one notebook demonstrating training models\n",
    "in SageMaker with Tornasole with your framework of choice. That notebook would demonstrate the \n",
    "changes you need to make in your training script to enable Tornasole, starting a training job \n",
    "along with a rule execution job, and looking at the status of these jobs.\n",
    "\n",
    "In this notebook we will focus on how to write a custom Tornasole rule, and how to \n",
    "execute this custom rule in SageMaker. To make this notebook runnable, we are picking a TensorFlow script as the training job.\n",
    "Whatever framework or script you use, rule behavior would be similar. \n",
    "\n",
    "### Start training with a custom rule\n",
    "\n",
    "#### Configuring the inputs for the training job\n",
    "Set the docker image to the SageMaker TensorFlow container that we have built with Tornasole pre-installed, for the region you are in. "
   ]
  },
  {
   "cell_type": "code",
   "execution_count": 3,
   "metadata": {
    "pycharm": {
     "name": "#%%\n"
    }
   },
   "outputs": [],
   "source": [
    "import sagemaker\n",
    "import boto3\n",
    "from sagemaker.tensorflow import TensorFlow\n",
    "\n",
    "REGION = boto3.Session().region_name\n",
    "TAG='latest'\n",
    "\n",
    "docker_image_name= '072677473360.dkr.ecr.{}.amazonaws.com/tornasole-preprod-tf-1.13.1-cpu:{}'.format(REGION, TAG)"
   ]
  },
  {
   "cell_type": "markdown",
   "metadata": {},
   "source": [
    "\n",
    "Let us now set `entry_point_script` to the simple TensorFlow training script that has TornasoleHook integrated.\n",
    "The 'hyperparameters' below are the parameters that will be passed to the training script as command line arguments in SageMaker's script mode."
   ]
  },
  {
   "cell_type": "code",
   "execution_count": 5,
   "metadata": {
    "pycharm": {
     "name": "#%%\n"
    }
   },
   "outputs": [],
   "source": [
    "entry_point_script = '../../frameworks/tensorflow/examples/scripts/simple.py'\n",
    "hyperparameters = { 'steps': 1000000, 'tornasole_frequency': 50 }"
   ]
  },
  {
   "cell_type": "markdown",
   "metadata": {},
   "source": [
    "#### Configuring custom rule\n",
    "We have written an example custom rule `CustomGradientRule`, available [here](../scripts/my_custom_rule.py). We need to upload this to a bucket in the same region where we want to run the job. We have chosen a default bucket below. Please change it to the bucket you want. We will now create this bucket if it does not exist, and upload this file. \n",
    "We will then specify this path when starting the job as `SourceS3Uri`."
   ]
  },
  {
   "cell_type": "code",
   "execution_count": 17,
   "metadata": {},
   "outputs": [],
   "source": [
    "ACCOUNT_ID = boto3.client('sts').get_caller_identity().get('Account')\n",
    "BUCKET = f'tornasole-resources-{ACCOUNT_ID}-{REGION}'\n",
    "\n",
    "CUSTOM_RULE_PATH = '../scripts/my_custom_rule.py'\n",
    "\n",
    "PREFIX = os.path.join('rules', os.path.basename(CUSTOM_RULE_PATH))\n",
    "\n",
    "import os\n",
    "s3 = boto3.resource('s3')\n",
    "bucket = s3.Bucket(BUCKET)\n",
    "if not bucket.creation_date:\n",
    "    s3.create_bucket(Bucket=BUCKET, CreateBucketConfiguration={'LocationConstraint': REGION})\n",
    "s3.Object(BUCKET, PREFIX).put(Body=open(CUSTOM_RULE_PATH, 'rb'))\n",
    "SOURCE_S3_URI = f's3://{BUCKET}/{PREFIX}'"
   ]
  },
  {
   "cell_type": "markdown",
   "metadata": {},
   "source": [
    "Keep in mind that for SageMaker to be able to evaluate your rule, the rule class **will need** to have a signature conforming to the spec defined by Tornasole. \n",
    "\n",
    "This custom rule that we have written takes the arguments `self`, `base_trial` and `threshold`. \n",
    "In order to initialize a custom rule class, you'll need to pass down values for everything except `self` and `base_trial`. \n",
    "This is done through putting the parameters and their values as a string-to-string map in `RuntimeConfigurations` in the `rules_specification` parameter to the SageMaker Estimator.\n",
    "\n",
    "After we run this example, in this notebook we will look at these concepts in more detail."
   ]
  },
  {
   "cell_type": "code",
   "execution_count": 18,
   "metadata": {
    "pycharm": {
     "name": "#%%\n"
    }
   },
   "outputs": [],
   "source": [
    "estimator = TensorFlow(role=sagemaker.get_execution_role(),\n",
    "                  base_job_name='tensorflow-custom-rule-tornasole',\n",
    "                  train_instance_count=1,\n",
    "                  train_instance_type='ml.m4.xlarge',\n",
    "                  image_name=docker_image_name,\n",
    "                  entry_point=entry_point_script,\n",
    "                  hyperparameters=hyperparameters,\n",
    "                  framework_version='1.13.1',\n",
    "                  debug=True,\n",
    "                  py_version='py3',\n",
    "                  rules_specification=[\n",
    "                      {\n",
    "                          \"RuleName\": \"CustomGradientRule\",\n",
    "                          \"SourceS3Uri\": SOURCE_S3_URI,\n",
    "                          \"InstanceType\": \"ml.c5.4xlarge\",\n",
    "                          \"RuntimeConfigurations\": {\n",
    "                              \"threshold\" : \"0.5\"\n",
    "                          }\n",
    "                      }\n",
    "                  ])"
   ]
  },
  {
   "cell_type": "markdown",
   "metadata": {},
   "source": [
    "To kick off the job, we call the `fit()` method on the SageMaker TensorFlow estimator"
   ]
  },
  {
   "cell_type": "code",
   "execution_count": 19,
   "metadata": {
    "pycharm": {
     "name": "#%%\n"
    }
   },
   "outputs": [],
   "source": [
    "# setting wait as True will cause the logs to be streamed in the notebook directly,\n",
    "# in order to proceed to further cells you'll need to stop cell execution. So, \n",
    "# we set wait to False for demonstration purposes.\n",
    "estimator.fit(wait=False)"
   ]
  },
  {
   "cell_type": "markdown",
   "metadata": {},
   "source": [
    "### Result\n",
    "As a result of the above command, SageMaker will spin off two jobs for you - the first one being the training job which produces the tensors to be analyzed and the second one, which evaluates or analyzes the rule you asked it to in `rules_specification`.\n",
    "#### Check the status of the Rule Execution Job\n",
    "To get the rule execution job that SageMaker started for you, run the command below and it shows you the `RuleName`, `RuleStatus`, `FailureReason` if rule job started, the `RuleJobName` and `RuleExecutionJobArn`. \n",
    "If the tensors meets a rule evaluation condition, the rule execution job throws a client error with `FailureReason: RuleEvaluationConditionMet`. \n",
    "You can check the Cloudwatch Logstream `/aws/sagemaker/TrainingJobs` with `RuleExecutionJobArn`.\n",
    "\n",
    "Depending on how your tensors are emitted and how your custom rule reacts to the script, your rule evaluation job will either fail or succeed. \n",
    "You can get the rule evaluation statuses of the jobs through the following mechanism. This function will continue to poll till the rule execution jobs end. To proceed with the notebook, please stop the cell after RuleStatus changes to InProgress. At this point, you should see RuleExecutionJobName. This will be needed to execute the next cell of code where we attach to the rule execution job to see its logs."
   ]
  },
  {
   "cell_type": "code",
   "execution_count": 23,
   "metadata": {
    "pycharm": {
     "name": "#%%\n"
    }
   },
   "outputs": [
    {
     "name": "stdout",
     "output_type": "stream",
     "text": [
      "Wait to get status for Rule Execution Jobs...\n",
      "=============================================\n",
      "RuleName: CustomGradientRule\n",
      "RuleStatus: RuleExecutionError\n",
      "FailureReason: ClientError: RuleEvaluationConditionMet: Evaluation of the rule CustomGradientRule at step 0 resulted in the condition being met\n",
      "Traceback (most recent call last):\n",
      "  File \"train.py\", line 214, in execute\n",
      "    exec(_SYMBOLIC_INVOKE_RULE.format(self.start_step, self.end_step), globals(), exec_local)\n",
      "  File \"<string>\", line 2, in <module>\n",
      "  File \"/usr/local/lib/python3.7/site-packages/tornasole/rules/rule_invoker.py\", line 84, in invoke_rule\n",
      "    raise e\n",
      "  File \"/usr/local/lib/python3.7/site-packages/tornasole/rules/rule_invoker.py\", line 79, in invoke_rule\n",
      "    rule_obj.invoke(step)\n",
      "  File \"/usr/local/lib/python3.7/site-packages/tornasole/rules/rule.py\", line 56, in invoke\n",
      "    raise RuleEvaluationConditionMet(self.rule_name, step)\n",
      "tornasole.exceptions.RuleEvaluationConditionMet: Evaluation of the rule CustomGradientRule at step 0 resulted in the condition being met\n",
      "\n",
      "\n",
      "RuleExecutionJobName: CustomGradientRule-75136a67d770aaea32adbb833fb2ee4f\n",
      "RuleExecutionJobArn: arn:aws:sagemaker:us-west-2:072677473360:training-job/customgradientrule-75136a67d770aaea32adbb833fb2ee4f\n",
      "=============================================\n"
     ]
    }
   ],
   "source": [
    "rule_description = estimator.describe_rule_execution_jobs()"
   ]
  },
  {
   "cell_type": "markdown",
   "metadata": {},
   "source": [
    "#### Check the logs of the Rule Execution Job\n",
    "If you want to access the logs of a particular rule job name, you can do the following. First, you need to get the rule job name (`RuleExecutionJobArn` field from the training job description). Note that this is only available after the rule job reaches Started stage. Hence the next cell waits till the job name is available"
   ]
  },
  {
   "cell_type": "markdown",
   "metadata": {},
   "source": [
    "Now we can attach to this job to see its logs"
   ]
  },
  {
   "cell_type": "code",
   "execution_count": 24,
   "metadata": {
    "pycharm": {
     "name": "#%%\n"
    }
   },
   "outputs": [
    {
     "name": "stdout",
     "output_type": "stream",
     "text": [
      "2019-08-29 22:40:05 Starting - Preparing the instances for training\n",
      "2019-08-29 22:40:05 Downloading - Downloading input data\n",
      "2019-08-29 22:40:05 Training - Training image download completed. Training in progress.\n",
      "2019-08-29 22:40:05 Uploading - Uploading generated training model\n",
      "2019-08-29 22:40:05 Failed - Training job failed\u001b[31m[2019-08-29 22:39:24.434 ip-10-0-174-72.us-west-2.compute.internal:1 INFO s3_trial.py:27] Loading trial base-trial at path s3://sagemaker-us-west-2-072677473360/tensors-tensorflow-custom-rule-tornasole-2019-08-29-22-32-10-697\u001b[0m\n",
      "\u001b[31m[2019-08-29 22:39:56.413 ip-10-0-174-72.us-west-2.compute.internal:1 INFO rule_invoker.py:76] Started execution of rule CustomGradientRule at step 0\u001b[0m\n",
      "\u001b[31mException during rule execution: Customer Error: RuleEvaluationConditionMet: Evaluation of the rule CustomGradientRule at step 0 resulted in the condition being met\u001b[0m\n",
      "\u001b[31mTraceback (most recent call last):\n",
      "  File \"train.py\", line 214, in execute\n",
      "    exec(_SYMBOLIC_INVOKE_RULE.format(self.start_step, self.end_step), globals(), exec_local)\n",
      "  File \"<string>\", line 2, in <module>\n",
      "  File \"/usr/local/lib/python3.7/site-packages/tornasole/rules/rule_invoker.py\", line 84, in invoke_rule\n",
      "    raise e\n",
      "  File \"/usr/local/lib/python3.7/site-packages/tornasole/rules/rule_invoker.py\", line 79, in invoke_rule\n",
      "    rule_obj.invoke(step)\n",
      "  File \"/usr/local/lib/python3.7/site-packages/tornasole/rules/rule.py\", line 56, in invoke\n",
      "    raise RuleEvaluationConditionMet(self.rule_name, step)\u001b[0m\n",
      "\u001b[31mtornasole.exceptions.RuleEvaluationConditionMet: Evaluation of the rule CustomGradientRule at step 0 resulted in the condition being met\n",
      "\n",
      "\u001b[0m\n"
     ]
    },
    {
     "ename": "UnexpectedStatusException",
     "evalue": "Error for Training job CustomGradientRule-75136a67d770aaea32adbb833fb2ee4f: Failed. Reason: ClientError: RuleEvaluationConditionMet: Evaluation of the rule CustomGradientRule at step 0 resulted in the condition being met\nTraceback (most recent call last):\n  File \"train.py\", line 214, in execute\n    exec(_SYMBOLIC_INVOKE_RULE.format(self.start_step, self.end_step), globals(), exec_local)\n  File \"<string>\", line 2, in <module>\n  File \"/usr/local/lib/python3.7/site-packages/tornasole/rules/rule_invoker.py\", line 84, in invoke_rule\n    raise e\n  File \"/usr/local/lib/python3.7/site-packages/tornasole/rules/rule_invoker.py\", line 79, in invoke_rule\n    rule_obj.invoke(step)\n  File \"/usr/local/lib/python3.7/site-packages/tornasole/rules/rule.py\", line 56, in invoke\n    raise RuleEvaluationConditionMet(self.rule_name, step)\ntornasole.exceptions.RuleEvaluationConditionMet: Evaluation of the rule CustomGradientRule at step 0 resulted in the condition being met\n\n",
     "output_type": "error",
     "traceback": [
      "\u001b[0;31m---------------------------------------------------------------------------\u001b[0m",
      "\u001b[0;31mUnexpectedStatusException\u001b[0m                 Traceback (most recent call last)",
      "\u001b[0;32m<ipython-input-24-c8b1137aadbe>\u001b[0m in \u001b[0;36m<module>\u001b[0;34m()\u001b[0m\n\u001b[1;32m      1\u001b[0m \u001b[0;32mfrom\u001b[0m \u001b[0msagemaker\u001b[0m\u001b[0;34m.\u001b[0m\u001b[0mestimator\u001b[0m \u001b[0;32mimport\u001b[0m \u001b[0mEstimator\u001b[0m\u001b[0;34m\u001b[0m\u001b[0m\n\u001b[1;32m      2\u001b[0m \u001b[0mrule_job_name\u001b[0m \u001b[0;34m=\u001b[0m \u001b[0mrule_description\u001b[0m\u001b[0;34m[\u001b[0m\u001b[0;36m0\u001b[0m\u001b[0;34m]\u001b[0m\u001b[0;34m[\u001b[0m\u001b[0;34m'RuleExecutionJobName'\u001b[0m\u001b[0;34m]\u001b[0m\u001b[0;34m\u001b[0m\u001b[0m\n\u001b[0;32m----> 3\u001b[0;31m \u001b[0mexploding_tensor\u001b[0m \u001b[0;34m=\u001b[0m \u001b[0mEstimator\u001b[0m\u001b[0;34m.\u001b[0m\u001b[0mattach\u001b[0m\u001b[0;34m(\u001b[0m\u001b[0mrule_job_name\u001b[0m\u001b[0;34m)\u001b[0m\u001b[0;34m\u001b[0m\u001b[0m\n\u001b[0m",
      "\u001b[0;32m~/anaconda3/envs/tensorflow_p36/lib/python3.6/site-packages/sagemaker/estimator.py\u001b[0m in \u001b[0;36mattach\u001b[0;34m(cls, training_job_name, sagemaker_session, model_channel_name)\u001b[0m\n\u001b[1;32m    460\u001b[0m         )\n\u001b[1;32m    461\u001b[0m         \u001b[0mestimator\u001b[0m\u001b[0;34m.\u001b[0m\u001b[0m_current_job_name\u001b[0m \u001b[0;34m=\u001b[0m \u001b[0mestimator\u001b[0m\u001b[0;34m.\u001b[0m\u001b[0mlatest_training_job\u001b[0m\u001b[0;34m.\u001b[0m\u001b[0mname\u001b[0m\u001b[0;34m\u001b[0m\u001b[0m\n\u001b[0;32m--> 462\u001b[0;31m         \u001b[0mestimator\u001b[0m\u001b[0;34m.\u001b[0m\u001b[0mlatest_training_job\u001b[0m\u001b[0;34m.\u001b[0m\u001b[0mwait\u001b[0m\u001b[0;34m(\u001b[0m\u001b[0;34m)\u001b[0m\u001b[0;34m\u001b[0m\u001b[0m\n\u001b[0m\u001b[1;32m    463\u001b[0m         \u001b[0;32mreturn\u001b[0m \u001b[0mestimator\u001b[0m\u001b[0;34m\u001b[0m\u001b[0m\n\u001b[1;32m    464\u001b[0m \u001b[0;34m\u001b[0m\u001b[0m\n",
      "\u001b[0;32m~/anaconda3/envs/tensorflow_p36/lib/python3.6/site-packages/sagemaker/estimator.py\u001b[0m in \u001b[0;36mwait\u001b[0;34m(self, logs)\u001b[0m\n\u001b[1;32m   1012\u001b[0m         \"\"\"\n\u001b[1;32m   1013\u001b[0m         \u001b[0;32mif\u001b[0m \u001b[0mlogs\u001b[0m\u001b[0;34m:\u001b[0m\u001b[0;34m\u001b[0m\u001b[0m\n\u001b[0;32m-> 1014\u001b[0;31m             \u001b[0mself\u001b[0m\u001b[0;34m.\u001b[0m\u001b[0msagemaker_session\u001b[0m\u001b[0;34m.\u001b[0m\u001b[0mlogs_for_job\u001b[0m\u001b[0;34m(\u001b[0m\u001b[0mself\u001b[0m\u001b[0;34m.\u001b[0m\u001b[0mjob_name\u001b[0m\u001b[0;34m,\u001b[0m \u001b[0mwait\u001b[0m\u001b[0;34m=\u001b[0m\u001b[0;32mTrue\u001b[0m\u001b[0;34m)\u001b[0m\u001b[0;34m\u001b[0m\u001b[0m\n\u001b[0m\u001b[1;32m   1015\u001b[0m         \u001b[0;32melse\u001b[0m\u001b[0;34m:\u001b[0m\u001b[0;34m\u001b[0m\u001b[0m\n\u001b[1;32m   1016\u001b[0m             \u001b[0mself\u001b[0m\u001b[0;34m.\u001b[0m\u001b[0msagemaker_session\u001b[0m\u001b[0;34m.\u001b[0m\u001b[0mwait_for_job\u001b[0m\u001b[0;34m(\u001b[0m\u001b[0mself\u001b[0m\u001b[0;34m.\u001b[0m\u001b[0mjob_name\u001b[0m\u001b[0;34m)\u001b[0m\u001b[0;34m\u001b[0m\u001b[0m\n",
      "\u001b[0;32m~/anaconda3/envs/tensorflow_p36/lib/python3.6/site-packages/sagemaker/session.py\u001b[0m in \u001b[0;36mlogs_for_job\u001b[0;34m(self, job_name, wait, poll)\u001b[0m\n\u001b[1;32m   1479\u001b[0m \u001b[0;34m\u001b[0m\u001b[0m\n\u001b[1;32m   1480\u001b[0m         \u001b[0;32mif\u001b[0m \u001b[0mwait\u001b[0m\u001b[0;34m:\u001b[0m\u001b[0;34m\u001b[0m\u001b[0m\n\u001b[0;32m-> 1481\u001b[0;31m             \u001b[0mself\u001b[0m\u001b[0;34m.\u001b[0m\u001b[0m_check_job_status\u001b[0m\u001b[0;34m(\u001b[0m\u001b[0mjob_name\u001b[0m\u001b[0;34m,\u001b[0m \u001b[0mdescription\u001b[0m\u001b[0;34m,\u001b[0m \u001b[0;34m\"TrainingJobStatus\"\u001b[0m\u001b[0;34m)\u001b[0m\u001b[0;34m\u001b[0m\u001b[0m\n\u001b[0m\u001b[1;32m   1482\u001b[0m             \u001b[0;32mif\u001b[0m \u001b[0mdot\u001b[0m\u001b[0;34m:\u001b[0m\u001b[0;34m\u001b[0m\u001b[0m\n\u001b[1;32m   1483\u001b[0m                 \u001b[0mprint\u001b[0m\u001b[0;34m(\u001b[0m\u001b[0;34m)\u001b[0m\u001b[0;34m\u001b[0m\u001b[0m\n",
      "\u001b[0;32m~/anaconda3/envs/tensorflow_p36/lib/python3.6/site-packages/sagemaker/session.py\u001b[0m in \u001b[0;36m_check_job_status\u001b[0;34m(self, job, desc, status_key_name)\u001b[0m\n\u001b[1;32m   1092\u001b[0m                 ),\n\u001b[1;32m   1093\u001b[0m                 \u001b[0mallowed_statuses\u001b[0m\u001b[0;34m=\u001b[0m\u001b[0;34m[\u001b[0m\u001b[0;34m\"Completed\"\u001b[0m\u001b[0;34m,\u001b[0m \u001b[0;34m\"Stopped\"\u001b[0m\u001b[0;34m]\u001b[0m\u001b[0;34m,\u001b[0m\u001b[0;34m\u001b[0m\u001b[0m\n\u001b[0;32m-> 1094\u001b[0;31m                 \u001b[0mactual_status\u001b[0m\u001b[0;34m=\u001b[0m\u001b[0mstatus\u001b[0m\u001b[0;34m,\u001b[0m\u001b[0;34m\u001b[0m\u001b[0m\n\u001b[0m\u001b[1;32m   1095\u001b[0m             )\n\u001b[1;32m   1096\u001b[0m \u001b[0;34m\u001b[0m\u001b[0m\n",
      "\u001b[0;31mUnexpectedStatusException\u001b[0m: Error for Training job CustomGradientRule-75136a67d770aaea32adbb833fb2ee4f: Failed. Reason: ClientError: RuleEvaluationConditionMet: Evaluation of the rule CustomGradientRule at step 0 resulted in the condition being met\nTraceback (most recent call last):\n  File \"train.py\", line 214, in execute\n    exec(_SYMBOLIC_INVOKE_RULE.format(self.start_step, self.end_step), globals(), exec_local)\n  File \"<string>\", line 2, in <module>\n  File \"/usr/local/lib/python3.7/site-packages/tornasole/rules/rule_invoker.py\", line 84, in invoke_rule\n    raise e\n  File \"/usr/local/lib/python3.7/site-packages/tornasole/rules/rule_invoker.py\", line 79, in invoke_rule\n    rule_obj.invoke(step)\n  File \"/usr/local/lib/python3.7/site-packages/tornasole/rules/rule.py\", line 56, in invoke\n    raise RuleEvaluationConditionMet(self.rule_name, step)\ntornasole.exceptions.RuleEvaluationConditionMet: Evaluation of the rule CustomGradientRule at step 0 resulted in the condition being met\n\n"
     ]
    }
   ],
   "source": [
    "from sagemaker.estimator import Estimator\n",
    "rule_job_name = rule_description[0]['RuleExecutionJobName']\n",
    "exploding_tensor = Estimator.attach(rule_job_name)"
   ]
  },
  {
   "cell_type": "markdown",
   "metadata": {
    "pycharm": {
     "name": "#%% md\n"
    }
   },
   "source": [
    "## Tornasole Rules Explained in depth\n",
    "Let us now walk through some of Tornasole's concepts which will be helpful to understand how rules are executed in SageMaker\n",
    "and how custom rules work. \n",
    "\n",
    "### Trial\n",
    "A Trial in Tornasole's context refers to a training job. \n",
    "It is identified by the path where the saved tensors for the job are stored. \n",
    "\n",
    "### Rules\n",
    "Rules are the medium by which Tornasole executes a certain piece of code regularly on different steps of the job.\n",
    "They can be used to assert certain conditions during training, and raise Cloudwatch Events based on them that you can\n",
    "use to process in any way you like. \n",
    "\n",
    "These are defined by the class `tornasole.rules.Rule`. A rule takes a `base_trial` which refers to the job whose run invokes the rule execution. \n",
    "A rule can optionally look at other jobs as well, passed using the argument `other_trials`.\n",
    "\n",
    "Tornasole comes with a set of **First Party rules** (1P rules).\n",
    "You can also write your own rules looking at these 1P rules for inspiration.\n",
    "Refer [Developer Guide for Rules.md](../../DeveloperGuide_Rules.md) for more on the \n",
    "APIs you can use to write your own rules as well as descriptions for the 1P rules that we provide.\n",
    "\n",
    "### Storage\n",
    "The tensors saved by Tornasole are, by default, stored in the S3 output path of the training job, under the folder **`/tensors-<job name>`**. \n",
    "This is done to ensure that we don't end up accidentally overwriting the tensors from a training job with the others. \n",
    "Rules evaluation require separation of the tensors paths to be evaluated correctly.\n",
    "If you don't provide an S3 output path to the estimator, SageMaker creates one for you as: **`s3://sagemaker-<region>-<account_id>/`**\n",
    "\n",
    "### Using Tornasole Rules in SageMaker \n",
    "Here we will talk about how to use SageMaker to evaluate these rules on the training jobs. \n",
    "The new parameters in Sagemaker Estimator to look out for are\n",
    "\n",
    "- `debug` :(bool)\n",
    "This indicates that debugging should be enabled for the training job. \n",
    "Setting this as `True` would make Tornasole available for use with the job\n",
    "\n",
    "- `rules_specification`: (list[*dict*])\n",
    "You can specify any number of rules to monitor your SageMaker training job. \n",
    "This parameter takes a list of python dictionaries, one for each rule you want to enable. \n",
    "Each `dict` is of the following form:\n",
    "```\n",
    "{\n",
    "    \"RuleName\": <str>       \n",
    "        # The name of the class implementing the Tornasole Rule interface. (required)\n",
    "\n",
    "    \"SourceS3Uri\": <str>    \n",
    "        # S3 URI of the rule script containing the class in 'RuleName'. \n",
    "        # This is not required if you want to use one of the\n",
    "        # First Party rules provided to you by Amazon. \n",
    "        # In such a case you can leave it empty or not pass it. If you want to run a custom rule \n",
    "        # defined by you, you will need to define the custom rule class in a python \n",
    "        # file and provide it to SageMaker as a S3 URI. \n",
    "        # SageMaker will fetch this file and try to look for the rule class \n",
    "        # identified by RuleName in this file.\n",
    "    \n",
    "    \"InstanceType\": <str>   \n",
    "        # The ML instance type which should be used to run the rule evaluation job\n",
    "        \n",
    "    \"VolumeSizeInGB\": <int> \n",
    "        # The volume size to store the runtime artifacts from the rule evaluation \n",
    "        \n",
    "    \"RuntimeConfigurations\": {\n",
    "        # Map defining the parameters required to instantiate the Rule class and\n",
    "        # parameters regarding invokation of the rule (start-step and end-step)\n",
    "        # This can be any parameter taken by the rule. \n",
    "        # Every value here needs to be a string. \n",
    "        # So when you write custom rules, ensure that you can parse each argument from a string.\n",
    "        #\n",
    "        # PARAMS CAN BE\n",
    "        #\n",
    "        # STANDARD PARAMS FOR RULE EXECUTION\n",
    "        # \"start-step\": <str>\n",
    "        # \"end-step\": <str>\n",
    "        # \"other-trials-paths\": <str> (';' separated list of s3 paths as a string)\n",
    "        # \"logging-level\": <str> (can be one of \"CRITICAL\", \"FATAL\", \"ERROR\", \n",
    "        #                         \"WARNING\", \"WARN\", \"DEBUG\", \"NOTSET\")\n",
    "        #\n",
    "        # ANY PARAMETER TAKEN BY THE RULE other than `base_trial` and `other_trials` \n",
    "        # \"parameter\" : \"value\"\n",
    "        # <str>: <str>\n",
    "    }\n",
    "}\n",
    "```\n",
    "\n",
    "\n",
    "### CloudWatch Event Integration for Rules\n",
    "When the status of training job or rule execution job change (i.e. starting, failed), TrainingJobStatus [CloudWatch events](https://docs.aws.amazon.com/sagemaker/latest/dg/cloudwatch-events.html) are emitted.  \n",
    "\n",
    "You can configure a CloudWatch event rule to receive and process these events by setting up a target (Lambda function, SNS) as follows:\n",
    "\n",
    "- Configure the [SageMaker TrainingJobStatus CW event](https://docs.aws.amazon.com/AmazonCloudWatch/latest/events/EventTypes.html#sagemaker_event_types) to include rule job statuses associated with the training job\n",
    "- Configure the CW event to be emitted when a RuleStatus changes\n",
    "- Create a CloudWatch event rule that monitors the Training Job customer started\n",
    "- Set a Target (Lambda funtion, SQS) for the CloudWatch event rule that processes the event, and triggers an alarm for the customer based on the RuleStatus. \n",
    "\n",
    "Refer [this page](https://docs.aws.amazon.com/sagemaker/latest/dg/cloudwatch-events.html) for more details. \n",
    "\n",
    "### Writing a custom rule\n",
    "\n",
    "Implementing a custom rule involves implementing the Rule interface that Tornasole provides.\n",
    "Let us go through the exercise of writing a rule which checks whether gradients are very high.\n",
    "\n",
    "#### Constructor\n",
    "Creating a rule involves first inheriting from the base Rule class Tornasole provides: `tornasole.rules.Rule`\n",
    "\n",
    "Every rule is required to take the argument `base_trial` which represents the Trial object for the job whose execution \n",
    "invokes this rule. In addition to this you might want to pass `other_trials` which represents\n",
    "list of Trial objects for other jobs if you want your custom rule to look at other jobs for some comparision. \n",
    "For this rule here we do not need to look at any other trials, so we set `other_trials` to None.\n",
    "\n",
    "```python\n",
    "from tornasole.rules import Rule\n",
    "\n",
    "class CustomGradientRule(Rule):\n",
    "    def __init__(self, base_trial, threshold=10.0):\n",
    "        super().__init__(base_trial, other_trials=None)\n",
    "        self.threshold = float(threshold)\n",
    "```\n",
    "\n",
    "Please note that apart from `base_trial` and `other_trials` (if required), we require all \n",
    "arguments of the rule constructor to take a string as value. You can parse them to the type\n",
    "that you want from the string. This means if you want to pass\n",
    "a list of strings, you might want to pass them as a comma separated string. This restriction is\n",
    "being enforced so as to let you create and invoke rules from json using Sagemaker's APIs.   \n",
    "\n",
    "#### Function to invoke at a given step\n",
    "When a rule is executed, it is invoked at each step. We need to now define what to do when the rule is invoked at a given step, `step`.\n",
    "In this function you can implement the core logic of what you want to do with your selection of tensors. If your custom rule \n",
    "has access to other trials, you can access tensors from other trials as well.\n",
    "\n",
    "This function should return a boolean value `True` or `False`. When `True` is returned,\n",
    "SageMaker will raise the exception `RuleEvaluationConditionMet`. This will also create a CloudWatch Event which can be used to configure your chosen action. \n",
    "\n",
    "The invoke function for `CustomGradientRule` to check whether tensors have large gradients can look like below:\n",
    "```python\n",
    "    def invoke_at_step(self, step):\n",
    "        for tensor in self.base_trial.tensors_in_collection('gradients'):\n",
    "            abs_mean = tensor.reduction_value(step, 'mean', abs=True)\n",
    "            if abs_mean > self.threshold:\n",
    "                return True\n",
    "        return False\n",
    "```\n",
    "Here, we can access the names of tensors in `gradients` collection by using the method `tensors_in_collection`. \n",
    "You can see the full API that Trial provides to get tensors in our [Developer Guide For Rules](../../DeveloperGuide_Rules.md).\n",
    "\n",
    "#### Optional: RequiredTensors\n",
    "RequiredTensors is an optional construct that allows Tornasole to bulk-fetch all tensors that you need to \n",
    "execute the rule. This helps the rule invocation be more performant so it does not fetch tensor values from S3 one by one. \n",
    "\n",
    "##### RequiredTensors API \n",
    "This is a class whose object is provided as a member of the rule class, so you can access it as `self.req_tensors`. \n",
    "Its full API is described in our [Developer Guide For Rules](../../DeveloperGuide_Rules.md). \n",
    "In short, it has the following methods:\n",
    "```python\n",
    "# Add name of required tensor for a particular trial at given steps \n",
    "self.req_tensors.add(name=tname, steps=[step_num], trial=None, should_match_regex=False)\n",
    "\n",
    "# If required tensors were added inside `set_required_tensors`, during rule invocation it is\n",
    "# automatically used to fetch all tensors at once by calling `req_tensors.fetch()`\n",
    "# If required tensors were added elsewhere, or later, you can call the `req_tensors.fetch()` method \n",
    "# yourself to fetch all tensors at once.\n",
    "self.req_tensors.fetch()\n",
    "\n",
    "# This method returns the names of the required tensors for a given trial\n",
    "self.req_tensors.get_names(trial=None)\n",
    "\n",
    "# This method returns the steps for which the tensor is required to execute the rule at this step.\n",
    "self.req_tensors.get_tensor_steps(trial=None)\n",
    "\n",
    "# This method returns the list of required tensors for a given trial as `Tensor` objects\n",
    "self.req_tensors.get(trial=None)\n",
    "``` \n",
    "\n",
    "##### Declare required tensors\n",
    "To use this construct, you need to implement a method which lets Tornasole know what tensors you are interested in for invocation at a given step. \n",
    "This is the `set_required_tensors` method.\n",
    "\n",
    "```python\n",
    "def set_required_tensors(self, step):\n",
    "    for tname in self.base_trial.tensors_in_collection('gradients'):\n",
    "        self.req_tensors.add(tname, steps=[step])\n",
    "```\n",
    "##### Accessing required tensors\n",
    "Since we defined required tensors in the `set_required_tensors` method, these will have been\n",
    "pre-fetched when invoking the rule at a given step. You can continue to access the tensors as before.\n",
    "\n",
    "If you do not want to determine which tensors you want to process again, you can also just call\n",
    "self.req_tensors.get() to get them. In that case, the function would look as below:  \n",
    "\n",
    "```python\n",
    "def invoke_at_step(self, step):\n",
    "    for tensor in self.req_tensors.get():\n",
    "        abs_mean = tensor.reduction_value(step, 'mean', abs=True)\n",
    "        if abs_mean > self.threshold:\n",
    "            return True\n",
    "    return False\n",
    "```\n",
    "\n",
    "### Executing the custom rule\n",
    "\n",
    "You need to now provide Sagemaker the S3 location of the file which defines your custom rule classes as the value for the field `SourceS3Uri`. \n",
    "\n",
    "From above, our rule constructor takes the arguments `base_trial` and `threshold`. The `base_trial` argument will automatically be passed by SageMaker Rule Executor. The other arguments need to be passed through the RuntimeConfigurations dictionary as a mapping from string to string. \n",
    "\n",
    "If the custom rule took `other_trials`, which represents list of Trial objects for other jobs that the rule is interested in, that can be passed by passing the argument `other-trials-paths` which needs to be in the form of `s3_path_other_trial_1;s3_path_other_trial_2`.\n",
    "\n",
    "Note that the custom rules can only have arguments which expect a string as the value except the two arguments specifying trials to the Rule (`base_trial` and `other_trials`). \n",
    "\n",
    "Here's an example:\n",
    "```\n",
    "rules_specification = [\n",
    "    {\n",
    "        \"RuleName\": \"CustomGradientRule\",\n",
    "        \"SourceS3Uri\": \"s3://tornasole-external-preview-use1/rules/scripts/my_custom_rule.py\",\n",
    "        \"InstanceType\": \"ml.c5.4xlarge\",\n",
    "        \"VolumeSizeInGB\": 10,\n",
    "        \"RuntimeConfigurations\": {\n",
    "            \"threshold\" : \"20.0\"\n",
    "        }\n",
    "    }\n",
    "]\n",
    "```"
   ]
  },
  {
   "cell_type": "code",
   "execution_count": null,
   "metadata": {},
   "outputs": [],
   "source": []
  }
 ],
 "metadata": {
  "kernelspec": {
   "display_name": "Python 3",
   "language": "python",
   "name": "python3"
  },
  "language_info": {
   "codemirror_mode": {
    "name": "ipython",
    "version": 3
   },
   "file_extension": ".py",
   "mimetype": "text/x-python",
   "name": "python",
   "nbconvert_exporter": "python",
   "pygments_lexer": "ipython3",
   "version": "3.7.3"
  },
  "pycharm": {
   "stem_cell": {
    "cell_type": "raw",
    "metadata": {
     "collapsed": false
    },
    "source": []
   }
  }
 },
 "nbformat": 4,
 "nbformat_minor": 4
}
