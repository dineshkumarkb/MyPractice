{
 "cells": [
  {
   "cell_type": "markdown",
   "metadata": {},
   "source": [
    "## SageMaker Experiment Management  - Python SDK API Walkthrough\n",
    "\n",
    "This sample notebook demonstrates the basic usage of SageMaker Experiment Management Python SDK API."
   ]
  },
  {
   "cell_type": "markdown",
   "metadata": {},
   "source": [
    "### Setup"
   ]
  },
  {
   "cell_type": "code",
   "execution_count": 1,
   "metadata": {},
   "outputs": [
    {
     "name": "stderr",
     "output_type": "stream",
     "text": [
      "Traceback (most recent call last):\n",
      "  File \"C:\\Python27\\Scripts\\aws.cmd\", line 50, in <module>\n",
      "    import awscli.clidriver\n",
      "  File \"C:\\Users\\212757215\\AppData\\Roaming\\Python\\Python37\\site-packages\\awscli\\clidriver.py\", line 17, in <module>\n",
      "    import botocore.session\n",
      "ModuleNotFoundError: No module named 'botocore'\n",
      "'cp' is not recognized as an internal or external command,\n",
      "operable program or batch file.\n",
      "'cp' is not recognized as an internal or external command,\n",
      "operable program or batch file.\n"
     ]
    }
   ],
   "source": [
    "!aws configure add-model --service-model file://./source/build/model/sagemaker-2017-07-24.normal.json --service-name sagemaker\n",
    "!cp ./source/build/model/sagemaker-2017-07-24.paginators.json ~/.aws/models/sagemaker/2017-07-24/paginators.json\n",
    "!cp ./source/build/model/sagemaker-2017-07-24.waiters-2.json ~/.aws/models/sagemaker/2017-07-24/waiters-2.json"
   ]
  },
  {
   "cell_type": "code",
   "execution_count": 2,
   "metadata": {},
   "outputs": [
    {
     "ename": "ModuleNotFoundError",
     "evalue": "No module named 'boto3'",
     "output_type": "error",
     "traceback": [
      "\u001b[1;31m---------------------------------------------------------------------------\u001b[0m",
      "\u001b[1;31mModuleNotFoundError\u001b[0m                       Traceback (most recent call last)",
      "\u001b[1;32m<ipython-input-2-3c966c87dcd1>\u001b[0m in \u001b[0;36m<module>\u001b[1;34m\u001b[0m\n\u001b[0;32m      1\u001b[0m \u001b[1;32mimport\u001b[0m \u001b[0mtime\u001b[0m\u001b[1;33m\u001b[0m\u001b[1;33m\u001b[0m\u001b[0m\n\u001b[1;32m----> 2\u001b[1;33m \u001b[1;32mimport\u001b[0m \u001b[0mboto3\u001b[0m\u001b[1;33m\u001b[0m\u001b[1;33m\u001b[0m\u001b[0m\n\u001b[0m\u001b[0;32m      3\u001b[0m \u001b[1;33m\u001b[0m\u001b[0m\n\u001b[0;32m      4\u001b[0m \u001b[1;32mimport\u001b[0m \u001b[0msagemaker\u001b[0m\u001b[1;33m\u001b[0m\u001b[1;33m\u001b[0m\u001b[0m\n\u001b[0;32m      5\u001b[0m \u001b[1;32mfrom\u001b[0m \u001b[0msagemaker\u001b[0m\u001b[1;33m.\u001b[0m\u001b[0mexperiments\u001b[0m\u001b[1;33m.\u001b[0m\u001b[0mexperiment\u001b[0m \u001b[1;32mimport\u001b[0m \u001b[0mExperiment\u001b[0m\u001b[1;33m\u001b[0m\u001b[1;33m\u001b[0m\u001b[0m\n",
      "\u001b[1;31mModuleNotFoundError\u001b[0m: No module named 'boto3'"
     ]
    }
   ],
   "source": [
    "import time\n",
    "import boto3\n",
    "\n",
    "import sagemaker\n",
    "from sagemaker.experiments.experiment import Experiment\n",
    "from sagemaker.experiments.trial import Trial\n",
    "from sagemaker.experiments.trial_component import TrialComponent"
   ]
  },
  {
   "cell_type": "code",
   "execution_count": null,
   "metadata": {},
   "outputs": [],
   "source": [
    "sess = boto3.Session()\n",
    "role = sagemaker.get_execution_role()"
   ]
  },
  {
   "cell_type": "markdown",
   "metadata": {},
   "source": [
    "### Python SDK API usage"
   ]
  },
  {
   "cell_type": "markdown",
   "metadata": {},
   "source": [
    "`Create`"
   ]
  },
  {
   "cell_type": "code",
   "execution_count": null,
   "metadata": {},
   "outputs": [],
   "source": [
    "try:\n",
    "    test_experiment = Experiment.create(\n",
    "        experiment_name=\"test-experiment\", \n",
    "        description=\"test-experiment\")\n",
    "    print(test_experiment)\n",
    "except Exception as e:\n",
    "    print(e)"
   ]
  },
  {
   "cell_type": "code",
   "execution_count": null,
   "metadata": {},
   "outputs": [],
   "source": [
    "try:\n",
    "    test_trial = test_experiment.create_trial(trial_name=\"test-trial\")\n",
    "    print(test_trial)\n",
    "except Exception as e:\n",
    "    print(e)"
   ]
  },
  {
   "cell_type": "code",
   "execution_count": null,
   "metadata": {},
   "outputs": [],
   "source": [
    "# create a trial tracker, a trial component will be created automatically\n",
    "# and we can log parameters and artifacts through tracker\n",
    "with test_trial.create_tracker(component_name=\"test-component\") as test_tracker:\n",
    "    test_tracker.log_parameter(name='epoch', value=10)\n",
    "    test_tracker.log_parameters({\n",
    "        'layer': 2,\n",
    "        'batch_size': 128,\n",
    "        'optimizer': 'sgd',\n",
    "    })\n",
    "    test_tracker.log_input(name=\"training-set\", value=\"s3://my-test-dataset\")\n",
    "    \n",
    "print(test_tracker.trial_component_obj)"
   ]
  },
  {
   "cell_type": "markdown",
   "metadata": {},
   "source": [
    "`Describe/Load & List`"
   ]
  },
  {
   "cell_type": "code",
   "execution_count": null,
   "metadata": {},
   "outputs": [],
   "source": [
    "# to load an experiment created before\n",
    "try:\n",
    "    loaded_experiment = Experiment.load(experiment_name=\"test-experiment\")\n",
    "    print(loaded_experiment)\n",
    "except Exception as e:\n",
    "    print(e)"
   ]
  },
  {
   "cell_type": "code",
   "execution_count": null,
   "metadata": {},
   "outputs": [],
   "source": [
    "# list trial summary\n",
    "for loaded_trial_summary in loaded_experiment.list_trials():\n",
    "    print(loaded_trial_summary)\n",
    "\n",
    "# load the trial\n",
    "loaded_trial = Trial.load(trial_name=loaded_trial_summary.trial_name)"
   ]
  },
  {
   "cell_type": "markdown",
   "metadata": {},
   "source": [
    "`Update`"
   ]
  },
  {
   "cell_type": "code",
   "execution_count": null,
   "metadata": {},
   "outputs": [],
   "source": [
    "# update the experiment description\n",
    "loaded_experiment.description = \"updated exp description.\"\n",
    "try:\n",
    "    loaded_experiment.update()\n",
    "except Exception as e:\n",
    "    print(e)\n",
    "\n",
    "# load it again and check if update succeeds\n",
    "print(Experiment.load(experiment_name=\"test-experiment\").description)"
   ]
  },
  {
   "cell_type": "code",
   "execution_count": null,
   "metadata": {},
   "outputs": [],
   "source": [
    "# let's create another experiment\n",
    "try:\n",
    "    test_experiment_2 = Experiment.create(\n",
    "        experiment_name=\"test-experiment-2\", \n",
    "        description=\"another experiment\")\n",
    "    print(test_experiment_2)\n",
    "except Exception as e:\n",
    "    print(e)"
   ]
  },
  {
   "cell_type": "code",
   "execution_count": null,
   "metadata": {},
   "outputs": [],
   "source": [
    "# move the trial to the new experiment\n",
    "loaded_trial.experiment_name = \"test-experiment-2\"\n",
    "try:\n",
    "    loaded_trial.update()\n",
    "except Exception as e:\n",
    "    print(e)\n",
    "    \n",
    "# load it again and check if update succeeds\n",
    "print(Trial.load(trial_name=\"test-trial\").experiment_name)"
   ]
  },
  {
   "cell_type": "markdown",
   "metadata": {},
   "source": [
    "`Delete`"
   ]
  },
  {
   "cell_type": "code",
   "execution_count": null,
   "metadata": {},
   "outputs": [],
   "source": [
    "# you cannot delete a trial with trial component inside.\n",
    "try:\n",
    "    loaded_trial.delete()\n",
    "except Exception as e:\n",
    "    print(e)"
   ]
  },
  {
   "cell_type": "code",
   "execution_count": null,
   "metadata": {},
   "outputs": [],
   "source": [
    "# you cannot deleted an experiment with trial inside.\n",
    "try:\n",
    "    test_experiment_2.delete()\n",
    "except Exception as e:\n",
    "    print(e)"
   ]
  },
  {
   "cell_type": "code",
   "execution_count": null,
   "metadata": {},
   "outputs": [],
   "source": [
    "# since test-trial is moved to test-experiment-2, test-experiment is empty, thus, it can be deleted.\n",
    "try:\n",
    "    test_experiment.delete()\n",
    "except Exception as e:\n",
    "    print(e)"
   ]
  },
  {
   "cell_type": "code",
   "execution_count": null,
   "metadata": {},
   "outputs": [],
   "source": [
    "def cleanup(experiment):\n",
    "    '''Clean up everything in the given experiment object'''\n",
    "    for trial_summary in experiment.list_trials():\n",
    "        trial = Trial.load(trial_name=trial_summary.trial_name)\n",
    "        for trial_step in trial.list_trial_components():\n",
    "            trial_step.delete()\n",
    "            # to prevent throttling\n",
    "            time.sleep(1)\n",
    "        trial.delete()\n",
    "    \n",
    "    experiment.delete()"
   ]
  },
  {
   "cell_type": "code",
   "execution_count": null,
   "metadata": {},
   "outputs": [],
   "source": [
    "cleanup(test_experiment_2)\n",
    "del test_experiment_2"
   ]
  },
  {
   "cell_type": "code",
   "execution_count": null,
   "metadata": {},
   "outputs": [],
   "source": []
  }
 ],
 "metadata": {
  "kernelspec": {
   "display_name": "Python 3",
   "language": "python",
   "name": "python3"
  },
  "language_info": {
   "codemirror_mode": {
    "name": "ipython",
    "version": 3
   },
   "file_extension": ".py",
   "mimetype": "text/x-python",
   "name": "python",
   "nbconvert_exporter": "python",
   "pygments_lexer": "ipython3",
   "version": "3.7.3"
  }
 },
 "nbformat": 4,
 "nbformat_minor": 2
}
